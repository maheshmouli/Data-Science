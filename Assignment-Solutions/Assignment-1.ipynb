{
 "cells": [
  {
   "cell_type": "markdown",
   "id": "83db401a",
   "metadata": {},
   "source": [
    "Q1. Create one variable containing following type of data:\n",
    "\n",
    "    (i)string\n",
    "\n",
    "    (ii)list\n",
    "\n",
    "    (iii)float\n",
    "\n",
    "    (iv)tuple"
   ]
  },
  {
   "cell_type": "code",
   "execution_count": 1,
   "id": "c04a8dc1",
   "metadata": {},
   "outputs": [
    {
     "name": "stdout",
     "output_type": "stream",
     "text": [
      "<class 'str'>\n",
      "<class 'list'>\n",
      "<class 'float'>\n",
      "<class 'tuple'>\n"
     ]
    }
   ],
   "source": [
    "letter = \"Mouli Siramdasu\"\n",
    "lst = ['Mouli', 'Siramdasu', 'India']\n",
    "flot = 99.7\n",
    "tple = ('apple','mango','strawberry')\n",
    "print(type(letter))\n",
    "print(type(lst))\n",
    "print(type(flot))\n",
    "print(type(tple))"
   ]
  },
  {
   "cell_type": "markdown",
   "id": "c40c5f36",
   "metadata": {},
   "source": [
    "Q2. Given are some following variables containing data:\n",
    "\n",
    "    (i)var1 = ‘ ‘\n",
    "\n",
    "    (ii)var2 = ‘[ DS , ML , Python]’\n",
    "\n",
    "    (iii)var3 = [ ‘DS’ , ’ML’ , ‘Python’ ]\n",
    "\n",
    "    (iv)var4 = 1.\n",
    "\n",
    "What will be the data type of the above given variable."
   ]
  },
  {
   "cell_type": "code",
   "execution_count": 2,
   "id": "cedb472b",
   "metadata": {},
   "outputs": [
    {
     "name": "stdout",
     "output_type": "stream",
     "text": [
      "<class 'str'>\n",
      "<class 'str'>\n",
      "<class 'list'>\n",
      "<class 'int'>\n"
     ]
    }
   ],
   "source": [
    "var1 = ' '\n",
    "var2 = '[DS , ML , Python]'\n",
    "var3 = ['DS' , 'ML' , 'Python']\n",
    "var4 = 1\n",
    "\n",
    "print(type(var1))\n",
    "print(type(var2))\n",
    "print(type(var3))\n",
    "print(type(var4))"
   ]
  },
  {
   "cell_type": "markdown",
   "id": "eefb58df",
   "metadata": {},
   "source": [
    "Q3. Explain the use of the following operators using an example:\n",
    "\n",
    "    (i)/\n",
    "\n",
    "    (ii)% \n",
    "\n",
    "    (iii)//\n",
    "\n",
    "    (iv)**"
   ]
  },
  {
   "cell_type": "code",
   "execution_count": 6,
   "id": "eb4eb779",
   "metadata": {},
   "outputs": [
    {
     "name": "stdout",
     "output_type": "stream",
     "text": [
      "var1: 2.2, var2: 0, var3: 2, var4: 100000\n"
     ]
    }
   ],
   "source": [
    "var1 = 11/5 # It returns float value of the division\n",
    "var2 = 10%5\n",
    "var3 = 11//5 # It rounds the value \n",
    "var4 = 10**5\n",
    "\n",
    "print(f'var1: {var1}, var2: {var2}, var3: {var3}, var4: {var4}')"
   ]
  },
  {
   "cell_type": "markdown",
   "id": "bfed9da6",
   "metadata": {},
   "source": [
    "Q4. Create a list of length 10 of your choice containing multiple types of data. Using for loop print the \n",
    "element and its data type."
   ]
  },
  {
   "cell_type": "code",
   "execution_count": 10,
   "id": "12db9a4b",
   "metadata": {},
   "outputs": [
    {
     "name": "stdout",
     "output_type": "stream",
     "text": [
      "Mouli: (<class 'str'>)\n",
      "3.14: (<class 'float'>)\n",
      "7: (<class 'int'>)\n",
      "[1, 2, 3]: (<class 'list'>)\n",
      "{'name': 'Mouli', 'age': 20}: (<class 'dict'>)\n",
      "{'green', 'red', 'blue'}: (<class 'set'>)\n",
      "(1, 2, 3): (<class 'tuple'>)\n"
     ]
    }
   ],
   "source": [
    "my_list = [\n",
    "    \"Mouli\",  # string\n",
    "    3.14,  # float\n",
    "    7,  # integer\n",
    "    [1, 2, 3],  # list\n",
    "    {\"name\": \"Mouli\", \"age\": 20},  # dictionary\n",
    "    {\"red\", \"green\", \"blue\"},  # set\n",
    "    (1, 2, 3),  # tuple\n",
    "]\n",
    "\n",
    "for item in my_list:\n",
    "    print(f\"{item}: ({type(item)})\")\n"
   ]
  },
  {
   "cell_type": "markdown",
   "id": "539d28c8",
   "metadata": {},
   "source": [
    "Q5. Using a while loop, verify if the number A is purely divisible by number B and if so then how many \n",
    "times it can be divisible"
   ]
  },
  {
   "cell_type": "code",
   "execution_count": 17,
   "id": "e989cf91",
   "metadata": {},
   "outputs": [
    {
     "name": "stdout",
     "output_type": "stream",
     "text": [
      "Number_A is divisible by Number_B 2 times.\n"
     ]
    }
   ],
   "source": [
    "number_A = 100\n",
    "number_B = 10\n",
    "count = 0\n",
    "\n",
    "while number_A % number_B == 0:\n",
    "    number_A /= number_B\n",
    "    count += 1\n",
    "\n",
    "\n",
    "print(f\"Number_A is divisible by Number_B {count} times.\")"
   ]
  },
  {
   "cell_type": "markdown",
   "id": "572a5279",
   "metadata": {},
   "source": [
    "Q6. Create a list containing 25 int type data. Using for loop and if-else condition print if the element is \n",
    "divisible by 3 or not."
   ]
  },
  {
   "cell_type": "code",
   "execution_count": 18,
   "id": "978da8f7",
   "metadata": {},
   "outputs": [
    {
     "name": "stdout",
     "output_type": "stream",
     "text": [
      "2 is divisible by 3.\n",
      "7 is divisible by 3.\n",
      "12 is not divisible by 3.\n",
      "15 is not divisible by 3.\n",
      "20 is divisible by 3.\n",
      "22 is divisible by 3.\n",
      "27 is not divisible by 3.\n",
      "30 is not divisible by 3.\n",
      "33 is not divisible by 3.\n",
      "38 is divisible by 3.\n",
      "42 is not divisible by 3.\n",
      "45 is not divisible by 3.\n",
      "50 is divisible by 3.\n",
      "55 is divisible by 3.\n",
      "60 is not divisible by 3.\n",
      "65 is divisible by 3.\n",
      "70 is divisible by 3.\n",
      "75 is not divisible by 3.\n",
      "80 is divisible by 3.\n",
      "85 is divisible by 3.\n",
      "90 is not divisible by 3.\n",
      "95 is divisible by 3.\n",
      "100 is divisible by 3.\n",
      "105 is not divisible by 3.\n",
      "110 is divisible by 3.\n"
     ]
    }
   ],
   "source": [
    "numbers = [2, 7, 12, 15, 20, 22, 27, 30, 33, 38, 42, 45, 50, 55, 60, 65, 70, 75, 80, 85, 90, 95, 100, 105, 110]\n",
    "\n",
    "for num in numbers:\n",
    "    if num % 3 == 0:\n",
    "        print(f\"{num} is not divisible by 3.\")\n",
    "    else:\n",
    "        print(f\"{num} is divisible by 3.\")"
   ]
  },
  {
   "cell_type": "markdown",
   "id": "00c0d380",
   "metadata": {},
   "source": [
    "Q7. What do you understand about mutable and immutable data types? Give examples for both showing this property.\n",
    "\n",
    "Ans: Immutable data types are those whose values cannot be changed once they are created. On the other hand, Mutable data types are those whose values can be modified after they are created."
   ]
  },
  {
   "cell_type": "code",
   "execution_count": 21,
   "id": "af8b2e52",
   "metadata": {},
   "outputs": [
    {
     "name": "stdout",
     "output_type": "stream",
     "text": [
      "Immutable Objects:\n",
      "Hello World\n",
      "Hello\n"
     ]
    }
   ],
   "source": [
    "string1 = \"Hello\"\n",
    "string2 = string1\n",
    "\n",
    "string1 += \" World\"\n",
    "\n",
    "print(\"Immutable Objects:\")\n",
    "print(string1)  # Output: Hello World\n",
    "print(string2)  # Output: Hello\n"
   ]
  },
  {
   "cell_type": "code",
   "execution_count": 22,
   "id": "27635a14",
   "metadata": {},
   "outputs": [
    {
     "name": "stdout",
     "output_type": "stream",
     "text": [
      "Mutable Objects:\n",
      "[1, 2, 3, 4]\n",
      "[1, 2, 3, 4]\n"
     ]
    }
   ],
   "source": [
    "list1 = [1, 2, 3]\n",
    "list2 = list1\n",
    "\n",
    "list1.append(4)\n",
    "\n",
    "print(\"Mutable Objects:\")\n",
    "print(list1)  # Output: [1, 2, 3, 4]\n",
    "print(list2)  # Output: [1, 2, 3, 4]\n"
   ]
  },
  {
   "cell_type": "code",
   "execution_count": null,
   "id": "2e28495e",
   "metadata": {},
   "outputs": [],
   "source": []
  }
 ],
 "metadata": {
  "kernelspec": {
   "display_name": "Python 3 (ipykernel)",
   "language": "python",
   "name": "python3"
  },
  "language_info": {
   "codemirror_mode": {
    "name": "ipython",
    "version": 3
   },
   "file_extension": ".py",
   "mimetype": "text/x-python",
   "name": "python",
   "nbconvert_exporter": "python",
   "pygments_lexer": "ipython3",
   "version": "3.9.7"
  }
 },
 "nbformat": 4,
 "nbformat_minor": 5
}

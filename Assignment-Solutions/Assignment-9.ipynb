{
 "cells": [
  {
   "cell_type": "markdown",
   "id": "f7d948fd",
   "metadata": {},
   "source": [
    "Q1. Explain why we have to use the Exception class while creating a Custom Exception\n",
    "\n",
    "Ans: All exceptions are subclasses of the Exception class. Any custom exception class that we create must inherit from the exception class. To provide a consistent way of handling exceptions, also to provide more information about the error and to create a hierarchy of exceptions"
   ]
  },
  {
   "cell_type": "markdown",
   "id": "ebf146f8",
   "metadata": {},
   "source": [
    "Q2. Write a python program to print Python Exception Hierarchy"
   ]
  },
  {
   "cell_type": "code",
   "execution_count": 1,
   "id": "46b7b1c5",
   "metadata": {},
   "outputs": [
    {
     "name": "stdout",
     "output_type": "stream",
     "text": [
      "Exception class: Exception\n",
      "Exception class: BaseException\n",
      "Exception class: object\n"
     ]
    }
   ],
   "source": [
    "import inspect\n",
    "\n",
    "def print_exception_hierarchy(exception_class):\n",
    "    print(\"Exception class:\", exception_class.__name__)\n",
    "    for base_class in exception_class.__bases__:\n",
    "        print_exception_hierarchy(base_class)\n",
    "\n",
    "if __name__ == \"__main__\":\n",
    "    print_exception_hierarchy(Exception)"
   ]
  },
  {
   "cell_type": "markdown",
   "id": "aba3e224",
   "metadata": {},
   "source": [
    "Q3. What errors are defined in the ArithmeticError class? Explain any two with an example\n",
    "\n",
    "Ans: ArithmeticError class is a subclass of the Exception class in Python. It defines errors that occur during arithmetic operations. ZeroDivisonError, it occurs when a division is performed by zero.\n",
    "\n",
    "    - print(2/0)\n",
    "OverflowError, it occurs when an arithemtic operation results in a number that is too large to be represented. \n",
    "\n",
    "    - print(2**100)"
   ]
  },
  {
   "cell_type": "markdown",
   "id": "f0e06f0a",
   "metadata": {},
   "source": [
    "Q4. Why LookupError class is used? Explain with an example KeyError and IndexError.\n",
    "\n",
    "Ans: LookupError class is a subclass of the Exception class in Python. It defines errors that occur when a lookup operation fails. The LookupError class has two subclasses: KeyError and IndexError\n",
    "\n",
    "    - KeyError exception is raised when a key is not found in a dictionary\n",
    "    - IndexError exception is raised when an index is not found in a sequence"
   ]
  },
  {
   "cell_type": "code",
   "execution_count": 6,
   "id": "a9820be8",
   "metadata": {},
   "outputs": [
    {
     "name": "stdout",
     "output_type": "stream",
     "text": [
      "Key not found\n",
      "list index out of range\n"
     ]
    }
   ],
   "source": [
    "# KeyError\n",
    "dictionary = {\"name\": \"Bard\", \"age\": 30}\n",
    "def get_name(dictionary, key):\n",
    "    try:\n",
    "        return dictionary[key]\n",
    "    except KeyError as e:\n",
    "        return \"Key not found\"\n",
    "\n",
    "name = get_name(dictionary, \"color\")\n",
    "print(name)\n",
    "\n",
    "# IndexError\n",
    "list = [1, 2, 3]\n",
    "\n",
    "try:\n",
    "    print(list[4])\n",
    "except IndexError as e:\n",
    "    print(e)"
   ]
  },
  {
   "cell_type": "markdown",
   "id": "50afa039",
   "metadata": {},
   "source": [
    "Q5. Explain ImportError. What is ModuleNotFoundError?\n",
    "\n",
    "Ans: ImportError class is a subclass of the Exception class in Python. It defines errors that occur when an import operation fails. The ImportError class has two subclasses: ModuleNotFoundError and ImportModuleError\n",
    "\n",
    "    - ModuleNotFoundError exception is raised when a module cannot be found"
   ]
  },
  {
   "cell_type": "markdown",
   "id": "73755c07",
   "metadata": {},
   "source": [
    "Q6. List down some best practices for exception handling in python.\n",
    "\n",
    "Ans: \n",
    "\n",
    "- Use try and except statements to handle exceptions.\n",
    "- Use specific exception handlers\n",
    "- Log exceptions"
   ]
  },
  {
   "cell_type": "code",
   "execution_count": null,
   "id": "ff3f03ab",
   "metadata": {},
   "outputs": [],
   "source": []
  }
 ],
 "metadata": {
  "kernelspec": {
   "display_name": "Python 3 (ipykernel)",
   "language": "python",
   "name": "python3"
  },
  "language_info": {
   "codemirror_mode": {
    "name": "ipython",
    "version": 3
   },
   "file_extension": ".py",
   "mimetype": "text/x-python",
   "name": "python",
   "nbconvert_exporter": "python",
   "pygments_lexer": "ipython3",
   "version": "3.9.7"
  }
 },
 "nbformat": 4,
 "nbformat_minor": 5
}

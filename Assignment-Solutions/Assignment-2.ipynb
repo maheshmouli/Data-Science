{
 "cells": [
  {
   "cell_type": "markdown",
   "id": "c509f6d8",
   "metadata": {},
   "source": [
    "Q1. How do you comment code in Python? What are the different types of comments?\n",
    "\n",
    "Ans: In python we can comment the code using \"#\". They are two different types, single-line comment using \"#\", and another is Multi-line comment using `'''` or `\"\"\"`"
   ]
  },
  {
   "cell_type": "markdown",
   "id": "2ed23899",
   "metadata": {},
   "source": [
    "Q2. What are variables in Python? How do you declare and assign values to variables?\n",
    "\n",
    "Ans: Variables are used to store and manipulate data, they act as placeholders to hold the values which can be accessed in the program.\n",
    "\n",
    "variable_name =  value"
   ]
  },
  {
   "cell_type": "markdown",
   "id": "a4a26bd0",
   "metadata": {},
   "source": [
    "Q3. How do you convert one data type to another in Python?\n",
    "\n",
    "Ans: We can convert a data type to another using type conversion functions or by using built-in constructors of the target data type. \n",
    "\n",
    "Example: int(), float(), bool(), str(), list(), tuple(), string(), dict()"
   ]
  },
  {
   "cell_type": "markdown",
   "id": "693bdff5",
   "metadata": {},
   "source": [
    "Q4. How do you write and execute a Python script from the command line?\n",
    "\n",
    "Ans: First we need to save the python script file with .py extension, and then we need to navigate to that particular file location using command prompt and there we need to write command \"python file_name.py\""
   ]
  },
  {
   "cell_type": "markdown",
   "id": "fc633efd",
   "metadata": {},
   "source": [
    "Q5. Given a list my_list = [1, 2, 3, 4, 5], write the code to slice the list and obtain the sub-list [2, 3]."
   ]
  },
  {
   "cell_type": "code",
   "execution_count": 1,
   "id": "19241104",
   "metadata": {},
   "outputs": [
    {
     "name": "stdout",
     "output_type": "stream",
     "text": [
      "[2, 3]\n"
     ]
    }
   ],
   "source": [
    "my_list = [1, 2, 3, 4, 5]\n",
    "sub_list = my_list[1:3]\n",
    "print(sub_list)"
   ]
  },
  {
   "cell_type": "markdown",
   "id": "3df90839",
   "metadata": {},
   "source": [
    "Q6. What is a complex number in mathematics, and how is it represented in Python?\n",
    "\n",
    "Ans: A complex number consists of both real part and an imaginary part. In python, complex numbers are represented using the complex data type. \n",
    "\n",
    "e.g., z = 3 + 2j"
   ]
  },
  {
   "cell_type": "markdown",
   "id": "4187f75f",
   "metadata": {},
   "source": [
    "Q7. What is the correct way to declare a variable named age and assign the value 25 to it?"
   ]
  },
  {
   "cell_type": "code",
   "execution_count": 2,
   "id": "ecd8479c",
   "metadata": {},
   "outputs": [
    {
     "name": "stdout",
     "output_type": "stream",
     "text": [
      "25\n"
     ]
    }
   ],
   "source": [
    "age = 25\n",
    "print(age)"
   ]
  },
  {
   "cell_type": "markdown",
   "id": "5989a8e6",
   "metadata": {},
   "source": [
    "Q8. Declare a variable named price and assign the value 9.99 to it. What data type does this variable \n",
    "belong to?"
   ]
  },
  {
   "cell_type": "code",
   "execution_count": 3,
   "id": "8e2aa3e2",
   "metadata": {},
   "outputs": [
    {
     "name": "stdout",
     "output_type": "stream",
     "text": [
      "<class 'float'>\n"
     ]
    }
   ],
   "source": [
    "price = 9.99\n",
    "print(type(price))"
   ]
  },
  {
   "cell_type": "markdown",
   "id": "c4507d47",
   "metadata": {},
   "source": [
    "Q9. Create a variable named name and assign your full name to it as a string. How would you print the \n",
    "value of this variable?"
   ]
  },
  {
   "cell_type": "code",
   "execution_count": 4,
   "id": "e178f4be",
   "metadata": {},
   "outputs": [
    {
     "name": "stdout",
     "output_type": "stream",
     "text": [
      "Mouli Siramdasu\n"
     ]
    }
   ],
   "source": [
    "name = \"Mouli Siramdasu\"\n",
    "print(name)"
   ]
  },
  {
   "cell_type": "markdown",
   "id": "742c66ab",
   "metadata": {},
   "source": [
    "Q10. Given the string \"Hello, World!\", extract the substring \"World\""
   ]
  },
  {
   "cell_type": "code",
   "execution_count": 7,
   "id": "a7ac109a",
   "metadata": {},
   "outputs": [
    {
     "data": {
      "text/plain": [
       "'World'"
      ]
     },
     "execution_count": 7,
     "metadata": {},
     "output_type": "execute_result"
    }
   ],
   "source": [
    "var1 = \"Hello, World!\"\n",
    "var1[7:12]"
   ]
  },
  {
   "cell_type": "markdown",
   "id": "bdee19a9",
   "metadata": {},
   "source": [
    "Q11. Create a variable named \"is_student\" and assign it a boolean value indicating whether you are \n",
    "currently a student or not."
   ]
  },
  {
   "cell_type": "code",
   "execution_count": null,
   "id": "23a9aa63",
   "metadata": {},
   "outputs": [],
   "source": [
    "is_student = True\n",
    "print(\"\")"
   ]
  }
 ],
 "metadata": {
  "kernelspec": {
   "display_name": "Python 3 (ipykernel)",
   "language": "python",
   "name": "python3"
  },
  "language_info": {
   "codemirror_mode": {
    "name": "ipython",
    "version": 3
   },
   "file_extension": ".py",
   "mimetype": "text/x-python",
   "name": "python",
   "nbconvert_exporter": "python",
   "pygments_lexer": "ipython3",
   "version": "3.9.7"
  }
 },
 "nbformat": 4,
 "nbformat_minor": 5
}

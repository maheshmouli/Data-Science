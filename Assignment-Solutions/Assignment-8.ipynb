{
 "cells": [
  {
   "cell_type": "markdown",
   "id": "46bfd525",
   "metadata": {},
   "source": [
    "Q1. What is an Exception in python? Write the difference between Exceptions and Syntax errors\n",
    "\n",
    "Ans: Exception is an event that occurs during the execution of a program that disrupts the normal flow of the program's instructions. Syntac erros are errors that occur in the code itself. These are occured by typing mistakes or incorrect syntax. The main difference is Exception are caused by runtime errors, while syntac errors are caused by complie time errors."
   ]
  },
  {
   "cell_type": "markdown",
   "id": "f5264fdc",
   "metadata": {},
   "source": [
    "Q2. What happens when an exception is not handled? Explain with an example\n",
    "\n",
    "Ans: When an exception is not handled, the Python interpreter will stop executing the current code and print a traceback. The traceback is a message that shows which line of code where the exception occurred, as well as the stack trace, which shows the sequence of functions that were called leading up to the exception."
   ]
  },
  {
   "cell_type": "code",
   "execution_count": 1,
   "id": "3573c29f",
   "metadata": {},
   "outputs": [],
   "source": [
    "def fact(n):\n",
    "    if n < 0:\n",
    "        raise Exception(\"Number should be non-negative\")\n",
    "    if n==0:\n",
    "        return 1\n",
    "    return n * fact(n-1)"
   ]
  },
  {
   "cell_type": "code",
   "execution_count": 2,
   "id": "8302c43e",
   "metadata": {},
   "outputs": [
    {
     "ename": "Exception",
     "evalue": "Number should be non-negative",
     "output_type": "error",
     "traceback": [
      "\u001b[1;31m---------------------------------------------------------------------------\u001b[0m",
      "\u001b[1;31mException\u001b[0m                                 Traceback (most recent call last)",
      "\u001b[1;32m~\\AppData\\Local\\Temp\\ipykernel_21276\\2874172109.py\u001b[0m in \u001b[0;36m<module>\u001b[1;34m\u001b[0m\n\u001b[1;32m----> 1\u001b[1;33m \u001b[0mfact\u001b[0m\u001b[1;33m(\u001b[0m\u001b[1;33m-\u001b[0m\u001b[1;36m1\u001b[0m\u001b[1;33m)\u001b[0m\u001b[1;33m\u001b[0m\u001b[1;33m\u001b[0m\u001b[0m\n\u001b[0m",
      "\u001b[1;32m~\\AppData\\Local\\Temp\\ipykernel_21276\\3736030957.py\u001b[0m in \u001b[0;36mfact\u001b[1;34m(n)\u001b[0m\n\u001b[0;32m      1\u001b[0m \u001b[1;32mdef\u001b[0m \u001b[0mfact\u001b[0m\u001b[1;33m(\u001b[0m\u001b[0mn\u001b[0m\u001b[1;33m)\u001b[0m\u001b[1;33m:\u001b[0m\u001b[1;33m\u001b[0m\u001b[1;33m\u001b[0m\u001b[0m\n\u001b[0;32m      2\u001b[0m     \u001b[1;32mif\u001b[0m \u001b[0mn\u001b[0m \u001b[1;33m<\u001b[0m \u001b[1;36m0\u001b[0m\u001b[1;33m:\u001b[0m\u001b[1;33m\u001b[0m\u001b[1;33m\u001b[0m\u001b[0m\n\u001b[1;32m----> 3\u001b[1;33m         \u001b[1;32mraise\u001b[0m \u001b[0mException\u001b[0m\u001b[1;33m(\u001b[0m\u001b[1;34m\"Number should be non-negative\"\u001b[0m\u001b[1;33m)\u001b[0m\u001b[1;33m\u001b[0m\u001b[1;33m\u001b[0m\u001b[0m\n\u001b[0m\u001b[0;32m      4\u001b[0m     \u001b[1;32mif\u001b[0m \u001b[0mn\u001b[0m\u001b[1;33m==\u001b[0m\u001b[1;36m0\u001b[0m\u001b[1;33m:\u001b[0m\u001b[1;33m\u001b[0m\u001b[1;33m\u001b[0m\u001b[0m\n\u001b[0;32m      5\u001b[0m         \u001b[1;32mreturn\u001b[0m \u001b[1;36m1\u001b[0m\u001b[1;33m\u001b[0m\u001b[1;33m\u001b[0m\u001b[0m\n",
      "\u001b[1;31mException\u001b[0m: Number should be non-negative"
     ]
    }
   ],
   "source": [
    "fact(-1)"
   ]
  },
  {
   "cell_type": "markdown",
   "id": "dcf97a08",
   "metadata": {},
   "source": [
    "Q3. Which Python statements are used to catch and handle exceptions? Explain with an example\n",
    "\n",
    "Ans: Try and Except statements are used to catch and handle the exceptions in python. For example if we use the same code of fact()."
   ]
  },
  {
   "cell_type": "code",
   "execution_count": 3,
   "id": "4fa9e427",
   "metadata": {},
   "outputs": [
    {
     "name": "stdout",
     "output_type": "stream",
     "text": [
      "Number should be non-negative\n"
     ]
    }
   ],
   "source": [
    "try:\n",
    "    fact(-2)\n",
    "except Exception as e:\n",
    "    print(e)"
   ]
  },
  {
   "cell_type": "markdown",
   "id": "061cb977",
   "metadata": {},
   "source": [
    "Q4. Explain with an example:\n",
    "\n",
    "    a) try and else\n",
    "    b) finally\n",
    "    c) raise\n",
    " "
   ]
  },
  {
   "cell_type": "code",
   "execution_count": 5,
   "id": "3453f759",
   "metadata": {},
   "outputs": [
    {
     "ename": "SyntaxError",
     "evalue": "invalid syntax (3391348952.py, line 11)",
     "output_type": "error",
     "traceback": [
      "\u001b[1;36m  File \u001b[1;32m\"C:\\Users\\Mahesh Rog Strix\\AppData\\Local\\Temp\\ipykernel_21276\\3391348952.py\"\u001b[1;36m, line \u001b[1;32m11\u001b[0m\n\u001b[1;33m    else:\u001b[0m\n\u001b[1;37m    ^\u001b[0m\n\u001b[1;31mSyntaxError\u001b[0m\u001b[1;31m:\u001b[0m invalid syntax\n"
     ]
    }
   ],
   "source": [
    "# try and else \n",
    "def factorial(n):\n",
    "    if n < 0:\n",
    "        raise Exception(\"n must be non-negative\")\n",
    "    if n == 0:\n",
    "        return 1\n",
    "    return n * factorial(n - 1)\n",
    "\n",
    "try:\n",
    "    print(factorial(-1))\n",
    "else:\n",
    "    print(\"No exception occurred\")"
   ]
  },
  {
   "cell_type": "code",
   "execution_count": 1,
   "id": "a23c7e9d",
   "metadata": {},
   "outputs": [],
   "source": [
    "# finally\n",
    "def fact(n):\n",
    "    try:\n",
    "        print(fact(-1))\n",
    "    finally:\n",
    "        print(\"This code is always executed\")\n"
   ]
  },
  {
   "cell_type": "code",
   "execution_count": 2,
   "id": "2a6defc4",
   "metadata": {},
   "outputs": [
    {
     "name": "stdout",
     "output_type": "stream",
     "text": [
      "n must be non-negative\n"
     ]
    }
   ],
   "source": [
    "# raise\n",
    "def factorial(n):\n",
    "    if n < 0:\n",
    "        raise Exception(\"n must be non-negative\")\n",
    "    if n == 0:\n",
    "        return 1\n",
    "    return n * factorial(n - 1)\n",
    "\n",
    "try:\n",
    "    print(factorial(-1))\n",
    "except Exception as e:\n",
    "    print(e)"
   ]
  },
  {
   "cell_type": "markdown",
   "id": "d6dbc456",
   "metadata": {},
   "source": [
    "Q5. What are Custom Exceptions in python? Why do we need Custom Exceptions? Explain with an example\n",
    "\n",
    "Ans: Custom Exceptions are exceptions that are defined by the programmer. Custom exceptions can be used to provide more specific information about the error that occurred. Why we need because it provides more specific information about the error that occured. It creates a hierarchy of exceptions. \n"
   ]
  },
  {
   "cell_type": "code",
   "execution_count": 3,
   "id": "1dacbcd1",
   "metadata": {},
   "outputs": [
    {
     "name": "stdout",
     "output_type": "stream",
     "text": [
      "n must be non-negative\n"
     ]
    }
   ],
   "source": [
    "class NegativeNumberException(Exception):\n",
    "    \"\"\"Exception raised when a negative number is entered.\"\"\"\n",
    "\n",
    "    def __init__(self, message):\n",
    "        super().__init__(message)\n",
    "\n",
    "def fact(n):\n",
    "    if n < 0:\n",
    "        raise NegativeNumberException(\"n must be non-negative\")\n",
    "    if n == 0:\n",
    "        return 1\n",
    "    return n * fact(n - 1)\n",
    "\n",
    "try:\n",
    "    print(fact(-1))\n",
    "except NegativeNumberException as e:\n",
    "    print(e)"
   ]
  },
  {
   "cell_type": "markdown",
   "id": "ebd638d1",
   "metadata": {},
   "source": [
    "Q6. Create custom exception class. Use this class to handle an exception\n",
    "\n",
    "\n"
   ]
  },
  {
   "cell_type": "code",
   "execution_count": 4,
   "id": "f8f9e6e7",
   "metadata": {},
   "outputs": [
    {
     "name": "stdout",
     "output_type": "stream",
     "text": [
      "n must be non-negative\n"
     ]
    }
   ],
   "source": [
    "class NegativeNumberException(Exception):\n",
    "    \"\"\"Exception raised when a negative number is entered.\"\"\"\n",
    "\n",
    "    def __init__(self, message):\n",
    "        super().__init__(message)\n",
    "\n",
    "def fact(n):\n",
    "    if n < 0:\n",
    "        raise NegativeNumberException(\"n must be non-negative\")\n",
    "    if n == 0:\n",
    "        return 1\n",
    "    return n * fact(n - 1)\n",
    "\n",
    "try:\n",
    "    print(fact(-1))\n",
    "except NegativeNumberException as e:\n",
    "    print(e)"
   ]
  },
  {
   "cell_type": "code",
   "execution_count": null,
   "id": "118abc69",
   "metadata": {},
   "outputs": [],
   "source": []
  }
 ],
 "metadata": {
  "kernelspec": {
   "display_name": "Python 3 (ipykernel)",
   "language": "python",
   "name": "python3"
  },
  "language_info": {
   "codemirror_mode": {
    "name": "ipython",
    "version": 3
   },
   "file_extension": ".py",
   "mimetype": "text/x-python",
   "name": "python",
   "nbconvert_exporter": "python",
   "pygments_lexer": "ipython3",
   "version": "3.9.7"
  }
 },
 "nbformat": 4,
 "nbformat_minor": 5
}

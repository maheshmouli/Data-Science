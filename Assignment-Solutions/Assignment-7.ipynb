{
 "cells": [
  {
   "cell_type": "markdown",
   "id": "212c5c00",
   "metadata": {},
   "source": [
    "Q1. What is Abstraction in OOps? Explain with an example.\n",
    "\n",
    "Ans: \n",
    "- Abstraction is a process of hiding the implementation details of class and only exposing the essential features of the class to the user. This allows the user to focus on the fucntionality of the class without having to worry about how it works.\n"
   ]
  },
  {
   "cell_type": "markdown",
   "id": "244ba45d",
   "metadata": {},
   "source": [
    "Q2. Differentiate between Abstraction and Encapsulation. Explain with an example\n",
    "\n",
    "Ans: \n",
    "\n",
    "- Abstraction is the process of hiding the implementation details of a class, while encapsulation is the process of wrapping data and methods into a single unit or object."
   ]
  },
  {
   "cell_type": "code",
   "execution_count": 1,
   "id": "dffe97c6",
   "metadata": {},
   "outputs": [],
   "source": [
    "class Car:\n",
    "    def __init__(self, make, model, year):\n",
    "        self.make = make\n",
    "        self.model = model\n",
    "        self.year = year\n",
    "\n",
    "    def drive(self):\n",
    "        pass\n",
    "\n",
    "    def get_make(self):\n",
    "        return self.make\n",
    "\n",
    "    def get_model(self):\n",
    "        return self.model\n",
    "\n",
    "    def get_year(self):\n",
    "        return self.year\n",
    "    "
   ]
  },
  {
   "cell_type": "markdown",
   "id": "9d45307b",
   "metadata": {},
   "source": [
    "Q3. What is abc module in python? Why is it used?\n",
    "\n",
    "Ans: abc module in python is used to implement abstract classes and methods. Abstract classes are classes that cannot be instantiated, but they can inherited by other classes. Abstract methods are methods that have declaration but do not have an implementation"
   ]
  },
  {
   "cell_type": "markdown",
   "id": "2ef25cf0",
   "metadata": {},
   "source": [
    "Q4. How can we achieve data abstraction?\n",
    "\n",
    "Ans: Data Abstraction can be achieved in python by using abstract classes and methods. Abstract classes and methods are a way to hide the implementation details of a class and only expose the essential features of the class to the user."
   ]
  },
  {
   "cell_type": "code",
   "execution_count": 4,
   "id": "c1540b86",
   "metadata": {},
   "outputs": [
    {
     "name": "stdout",
     "output_type": "stream",
     "text": [
      "25\n"
     ]
    }
   ],
   "source": [
    "from abc import ABC, abstractmethod\n",
    "\n",
    "class Shape(ABC):\n",
    "    @abstractmethod\n",
    "    def get_area(self):\n",
    "        pass\n",
    "    \n",
    "class Square(Shape):\n",
    "    def __init__(self, side):\n",
    "        self.side = side\n",
    "        \n",
    "    def get_area(self):\n",
    "        return self.side * self.side\n",
    "        \n",
    "    \n",
    "square = Square(5)\n",
    "print(square.get_area())"
   ]
  },
  {
   "cell_type": "markdown",
   "id": "45ed15fb",
   "metadata": {},
   "source": [
    "Q5. Can we create an instance of an abstract class? Explain your answer.\n",
    "\n",
    "Ans: No, we cannot create an instance of an abstract class. Abstract classes are designed to be inherited by other classes, and they cannot be instantiated on their own."
   ]
  },
  {
   "cell_type": "code",
   "execution_count": 5,
   "id": "710deac7",
   "metadata": {},
   "outputs": [
    {
     "ename": "TypeError",
     "evalue": "Can't instantiate abstract class Shape with abstract method get_area",
     "output_type": "error",
     "traceback": [
      "\u001b[1;31m---------------------------------------------------------------------------\u001b[0m",
      "\u001b[1;31mTypeError\u001b[0m                                 Traceback (most recent call last)",
      "\u001b[1;32m~\\AppData\\Local\\Temp\\ipykernel_2488\\3181938958.py\u001b[0m in \u001b[0;36m<module>\u001b[1;34m\u001b[0m\n\u001b[0;32m      4\u001b[0m         \u001b[1;32mpass\u001b[0m\u001b[1;33m\u001b[0m\u001b[1;33m\u001b[0m\u001b[0m\n\u001b[0;32m      5\u001b[0m \u001b[1;33m\u001b[0m\u001b[0m\n\u001b[1;32m----> 6\u001b[1;33m \u001b[0mshape\u001b[0m \u001b[1;33m=\u001b[0m \u001b[0mShape\u001b[0m\u001b[1;33m(\u001b[0m\u001b[1;33m)\u001b[0m\u001b[1;33m\u001b[0m\u001b[1;33m\u001b[0m\u001b[0m\n\u001b[0m",
      "\u001b[1;31mTypeError\u001b[0m: Can't instantiate abstract class Shape with abstract method get_area"
     ]
    }
   ],
   "source": [
    "class Shape(ABC):\n",
    "    @abstractmethod\n",
    "    def get_area(self):\n",
    "        pass\n",
    "\n",
    "shape = Shape()"
   ]
  },
  {
   "cell_type": "code",
   "execution_count": null,
   "id": "572d22ed",
   "metadata": {},
   "outputs": [],
   "source": []
  }
 ],
 "metadata": {
  "kernelspec": {
   "display_name": "Python 3 (ipykernel)",
   "language": "python",
   "name": "python3"
  },
  "language_info": {
   "codemirror_mode": {
    "name": "ipython",
    "version": 3
   },
   "file_extension": ".py",
   "mimetype": "text/x-python",
   "name": "python",
   "nbconvert_exporter": "python",
   "pygments_lexer": "ipython3",
   "version": "3.9.7"
  }
 },
 "nbformat": 4,
 "nbformat_minor": 5
}

{
 "cells": [
  {
   "cell_type": "markdown",
   "id": "66d1b1f0",
   "metadata": {},
   "source": [
    "Q1, Create a vehicle class with an init method having instance variables as name_of_vehicle, max_speed \n",
    "and average_of_vehicle."
   ]
  },
  {
   "cell_type": "code",
   "execution_count": 9,
   "id": "fb8d50ee",
   "metadata": {},
   "outputs": [],
   "source": [
    "class Vehicle:\n",
    "    def __init__(self, name_of_vehicle, max_speed, average_of_vehicle):\n",
    "        self.name_of_vehicle = name_of_vehicle\n",
    "        self.max_speed = max_speed\n",
    "        self.average_of_vehicle = average_of_vehicle"
   ]
  },
  {
   "cell_type": "markdown",
   "id": "25cc74c3",
   "metadata": {},
   "source": [
    "Q2.  Create a child class car from the vehicle class created in Que 1, which will inherit the vehicle class. \n",
    "Create a method named seating_capacity which takes capacity as an argument and returns the name of \n",
    "the vehicle and its seating capacity"
   ]
  },
  {
   "cell_type": "code",
   "execution_count": 12,
   "id": "efd53a1d",
   "metadata": {},
   "outputs": [],
   "source": [
    "class Car(vehicle):\n",
    "    def seating_capacity(self, capacity):\n",
    "        return f\"{self.name_of_vehicle} has a seating capacity of {capacity}, Maximum speed is {self.max_speed}\""
   ]
  },
  {
   "cell_type": "code",
   "execution_count": 13,
   "id": "c49fca9d",
   "metadata": {},
   "outputs": [
    {
     "name": "stdout",
     "output_type": "stream",
     "text": [
      "Mercedes has a seating capacity of 5, Maximum speed is 200\n"
     ]
    }
   ],
   "source": [
    "car = Car(\"Mercedes\", 200, 150)\n",
    "print(car.seating_capacity(5))"
   ]
  },
  {
   "cell_type": "markdown",
   "id": "1bacd018",
   "metadata": {},
   "source": [
    "Q3. What is multiple inheritance? Write a python code to demonstrate multiple inheritance.\n",
    "\n",
    "Ans: Multiple inheritance is a feature in object-oriented programming languages where a class can inherit attributes and methods from more than one parent class. "
   ]
  },
  {
   "cell_type": "code",
   "execution_count": 14,
   "id": "63e282fd",
   "metadata": {},
   "outputs": [
    {
     "name": "stdout",
     "output_type": "stream",
     "text": [
      "This is a method1 from Parent1\n"
     ]
    }
   ],
   "source": [
    "class Parent1:\n",
    "    def method1(self):\n",
    "        print(\"This is a method1 from Parent1\")\n",
    "        \n",
    "class Parent2:\n",
    "    def method2(self):\n",
    "        print(\"This is a method2 from Parent2\")\n",
    "        \n",
    "class Child(Parent1, Parent2):\n",
    "    def method3(self):\n",
    "        print(\"This is a method3 from Parent3\")\n",
    "        \n",
    "child = Child()\n",
    "\n",
    "child.method1()"
   ]
  },
  {
   "cell_type": "code",
   "execution_count": 15,
   "id": "0e55a33d",
   "metadata": {},
   "outputs": [
    {
     "name": "stdout",
     "output_type": "stream",
     "text": [
      "This is a method2 from Parent2\n"
     ]
    }
   ],
   "source": [
    "child.method2()"
   ]
  },
  {
   "cell_type": "code",
   "execution_count": 16,
   "id": "6a062efa",
   "metadata": {},
   "outputs": [
    {
     "name": "stdout",
     "output_type": "stream",
     "text": [
      "This is a method3 from Parent3\n"
     ]
    }
   ],
   "source": [
    "child.method3()"
   ]
  },
  {
   "cell_type": "markdown",
   "id": "543d9d6d",
   "metadata": {},
   "source": [
    "Q4. What are getter and setter in python? Create a class and create a getter and a setter method in this \n",
    "class\n",
    "\n",
    "Ans: getter and setter are methods used to access and modify the values of class attributes, respectively. It provides way to encapsulate the attribute access and ensure proper data manipulation."
   ]
  },
  {
   "cell_type": "code",
   "execution_count": 17,
   "id": "52192919",
   "metadata": {},
   "outputs": [
    {
     "name": "stdout",
     "output_type": "stream",
     "text": [
      "John\n",
      "Alice\n"
     ]
    }
   ],
   "source": [
    "class Person:\n",
    "    def __init__(self, name):\n",
    "        self._name = name\n",
    "\n",
    "    def get_name(self):\n",
    "        return self._name\n",
    "\n",
    "    def set_name(self, name):\n",
    "        self._name = name\n",
    "\n",
    "person = Person(\"John\")\n",
    "print(person.get_name())\n",
    "person.set_name(\"Alice\")\n",
    "print(person.get_name()) \n"
   ]
  },
  {
   "cell_type": "markdown",
   "id": "3257054f",
   "metadata": {},
   "source": [
    "Q5.What is method overriding in python? Write a python code to demonstrate method overriding\n",
    "\n",
    "Ans: In Method overriding, where a sub-class provides its own implementation of a method that is already defined in its parent class. It allows the subclass to modify or extend the behaviour of the inherited method."
   ]
  },
  {
   "cell_type": "code",
   "execution_count": 18,
   "id": "ef586f96",
   "metadata": {},
   "outputs": [
    {
     "name": "stdout",
     "output_type": "stream",
     "text": [
      "The Dog barks.\n",
      "The car meows.\n"
     ]
    }
   ],
   "source": [
    "class Animal:\n",
    "    def sound(self):\n",
    "        print(\"Animal makes a sound\")\n",
    "        \n",
    "class Dog(Animal):\n",
    "    def sound(self):\n",
    "        print(\"The Dog barks.\")\n",
    "    \n",
    "class Cat(Animal):\n",
    "    def sound(self):\n",
    "        print(\"The car meows.\")\n",
    "        \n",
    "dog = Dog()\n",
    "cat = Cat()\n",
    "\n",
    "dog.sound()\n",
    "cat.sound()\n",
    "        "
   ]
  },
  {
   "cell_type": "code",
   "execution_count": null,
   "id": "9c8d7b87",
   "metadata": {},
   "outputs": [],
   "source": [
    "a"
   ]
  }
 ],
 "metadata": {
  "kernelspec": {
   "display_name": "Python 3 (ipykernel)",
   "language": "python",
   "name": "python3"
  },
  "language_info": {
   "codemirror_mode": {
    "name": "ipython",
    "version": 3
   },
   "file_extension": ".py",
   "mimetype": "text/x-python",
   "name": "python",
   "nbconvert_exporter": "python",
   "pygments_lexer": "ipython3",
   "version": "3.9.7"
  }
 },
 "nbformat": 4,
 "nbformat_minor": 5
}

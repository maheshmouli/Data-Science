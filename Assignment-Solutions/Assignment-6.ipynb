{
 "cells": [
  {
   "cell_type": "markdown",
   "id": "aacf578c",
   "metadata": {},
   "source": [
    "Q1. Explain Class and Object with respect to Object-Oriented Programming. Give a suitable example.\n",
    "\n",
    "Ans:\n",
    "\n",
    "Class\n",
    "- A class is a blueprint or a template for creating objects. It defines the structure, behaviour, and attributes that an object of that class will have. \n",
    "\n",
    "Example:\n",
    "Consider a class \"Car\". A car class can define attributes such as \"Brand\", \"Model\", and \"color\", as well as methods like \"Maximum_speed\" or \"Accelerate\".\n",
    "\n",
    "Object\n",
    "- An Object is an instance of a class. It represents a specific occurence of the class, created based on the class's blueprint. Objects have their own unique identity and can have distinct values for the attributes defined in the class. "
   ]
  },
  {
   "cell_type": "markdown",
   "id": "012460b3",
   "metadata": {},
   "source": [
    "Q2. Name the four pillars of OOPs.\n",
    "\n",
    "Ans: The four pillars of OOPs are Encapsualtion, Abstraction, Inheritance and Polymorphisim"
   ]
  },
  {
   "cell_type": "markdown",
   "id": "9c10abd3",
   "metadata": {},
   "source": [
    "Q3. Explain why the __init__() function is used. Give a suitable example.\n",
    "\n",
    "Ans: The __init__() function is a special method in python classes that is automatically called when an object of the class is instantiated or created. It is used to initialize the attributes or properties of the object. It helps for object initialization, Attribute Assignment, and Customization"
   ]
  },
  {
   "cell_type": "code",
   "execution_count": 2,
   "id": "fc3dfdaa",
   "metadata": {},
   "outputs": [
    {
     "name": "stdout",
     "output_type": "stream",
     "text": [
      "John\n",
      "25\n",
      "Name: John, Age: 25\n"
     ]
    }
   ],
   "source": [
    "class Person:\n",
    "    def __init__(self, name, age):\n",
    "        self.name = name\n",
    "        self.age = age\n",
    "\n",
    "    def display_info(self):\n",
    "        print(f\"Name: {self.name}, Age: {self.age}\")\n",
    "\n",
    "person = Person(\"John\", 25)\n",
    "print(person.name) \n",
    "print(person.age)  \n",
    "person.display_info()  \n"
   ]
  },
  {
   "cell_type": "markdown",
   "id": "78b21471",
   "metadata": {},
   "source": [
    "Q4. Why self is used in OOPs?\n",
    "\n",
    "Ans: self is used to refer to the current instance of the class. Used to access the attributes and methods of the class, helps to distinguish between local and instance variables."
   ]
  },
  {
   "cell_type": "markdown",
   "id": "962629a1",
   "metadata": {},
   "source": [
    "Q5. What is inheritance? Give an example for each type of inheritance.\n",
    "\n",
    "Ans: It allows you to create new classes that are based on existing classes. The new classes, called the sub-classes, can inherit the attributes and methods of the exisiting classes, called superclasses. \n",
    "\n",
    "- Single Inheritance: Car class inherits from the Vehicle class.\n",
    "- Multilevel Inheritance: SportsCar class inherits from the Car class, which in tunr inherits from the Vehicle class.\n",
    "- Hierarchical Inheritance: Animal class inherits "
   ]
  },
  {
   "cell_type": "code",
   "execution_count": null,
   "id": "64c5d945",
   "metadata": {},
   "outputs": [],
   "source": []
  },
  {
   "cell_type": "code",
   "execution_count": null,
   "id": "60b21477",
   "metadata": {},
   "outputs": [],
   "source": []
  }
 ],
 "metadata": {
  "kernelspec": {
   "display_name": "Python 3 (ipykernel)",
   "language": "python",
   "name": "python3"
  },
  "language_info": {
   "codemirror_mode": {
    "name": "ipython",
    "version": 3
   },
   "file_extension": ".py",
   "mimetype": "text/x-python",
   "name": "python",
   "nbconvert_exporter": "python",
   "pygments_lexer": "ipython3",
   "version": "3.9.7"
  }
 },
 "nbformat": 4,
 "nbformat_minor": 5
}
